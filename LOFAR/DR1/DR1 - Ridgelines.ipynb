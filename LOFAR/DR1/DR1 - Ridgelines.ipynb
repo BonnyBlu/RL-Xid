{
 "cells": [
  {
   "cell_type": "markdown",
   "metadata": {},
   "source": [
    "## Ridgeline Code for DR1\n",
    "\n",
    "This notebook has the running of the ridgeline code for DR2.  This isthe preparation for running the likelihood ratio code and only needs to be run once. (This is the part that needs to be run on the server as it takes all the time)"
   ]
  },
  {
   "cell_type": "code",
   "execution_count": null,
   "metadata": {},
   "outputs": [],
   "source": [
    "# Imports\n",
    "\n",
    "import time\n",
    "import RidgelineFiles as RLF\n",
    "from ridge_toolkitDR1 import AreaFluxes, ComponentsTable, CreateCutouts\n",
    "from ridge_toolkitDR1 import DefineCutoutHDU, FindRidges, GetAvailableSources, GetCutoutArray\n",
    "from ridge_toolkitDR1 import GetMaskedComp, TotalFluxSelector, TrialSeries\n",
    "from warnings import simplefilter, resetwarnings\n",
    "simplefilter('ignore')\n",
    "\n",
    "CompTable = ComponentsTable(str(RLF.CompCat))"
   ]
  },
  {
   "cell_type": "code",
   "execution_count": null,
   "metadata": {},
   "outputs": [],
   "source": [
    "TotalFluxSelector(str(RLF.LofCat))"
   ]
  },
  {
   "cell_type": "code",
   "execution_count": null,
   "metadata": {},
   "outputs": [],
   "source": [
    "TotalFluxCut = str(RLF.TFC)\n",
    "available_sources = GetAvailableSources(TotalFluxCut)\n",
    "print(available_sources.shape)"
   ]
  },
  {
   "cell_type": "code",
   "execution_count": null,
   "metadata": {},
   "outputs": [],
   "source": [
    "CreateCutouts(available_sources)"
   ]
  },
  {
   "cell_type": "code",
   "execution_count": null,
   "metadata": {},
   "outputs": [],
   "source": [
    "R = 5\n",
    "dphi = 60\n",
    "\n",
    "start_time = time.time()\n",
    "TrialSeries(available_sources, str(RLF.CompCat), R, dphi, CompTable)\n",
    "print((time.time()-start_time)/(60*60))"
   ]
  },
  {
   "cell_type": "code",
   "execution_count": null,
   "metadata": {},
   "outputs": [],
   "source": [
    "resetwarnings()"
   ]
  },
  {
   "cell_type": "code",
   "execution_count": null,
   "metadata": {},
   "outputs": [],
   "source": []
  }
 ],
 "metadata": {
  "kernelspec": {
   "display_name": "Python 3",
   "language": "python",
   "name": "python3"
  },
  "language_info": {
   "codemirror_mode": {
    "name": "ipython",
    "version": 3
   },
   "file_extension": ".py",
   "mimetype": "text/x-python",
   "name": "python",
   "nbconvert_exporter": "python",
   "pygments_lexer": "ipython3",
   "version": "3.7.3"
  }
 },
 "nbformat": 4,
 "nbformat_minor": 4
}
