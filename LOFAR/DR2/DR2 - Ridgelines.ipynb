{
 "cells": [
  {
   "cell_type": "markdown",
   "metadata": {},
   "source": [
    "## Ridgeline Code for DR2\n",
    "\n",
    "This notebook has the running of the ridgeline code for DR2.  This isthe preparation for running the likelihood ratio code and only needs to be run once. (This is the part that needs to be run on the server as it takes all the time)"
   ]
  },
  {
   "cell_type": "code",
   "execution_count": null,
   "metadata": {},
   "outputs": [],
   "source": [
    "# Imports\n",
    "\n",
    "import time\n",
    "import RidgelineFilesDR2 as RLF\n",
    "import RLConstantsDR2 as RLC\n",
    "from ridge_toolkitDR2 import AreaFluxes, ComponentsTable, CreateCutouts\n",
    "from ridge_toolkitDR2 import DefineCutoutHDU, FindRidges, GetAvailableSources, GetCutoutArray\n",
    "from ridge_toolkitDR2 import GetMaskedComp, TotalFluxSelector, TrialSeries\n",
    "from os.path import exists\n",
    "from warnings import simplefilter, resetwarnings\n",
    "simplefilter('ignore') # there is a matplotlib issue with shading on the graphs\n",
    "\n",
    "CompTable = ComponentsTable(str(RLF.CompCat))"
   ]
  },
  {
   "cell_type": "code",
   "execution_count": null,
   "metadata": {},
   "outputs": [],
   "source": [
    "\n",
    "if exists(RLF.TFC) == False:\n",
    "    print('Sizes not determined and sample not selected. Cutout and sizes being generated. Please wait output will show below.')\n",
    "    start_time = time.time()\n",
    "    TotalFluxSelector(str(RLF.LofCat), CompTable)\n",
    "    print('Time taken to calculate sizes = ' + str((time.time()-start_time)/(60*60)))\n",
    "    \n",
    "    available_sources = GetAvailableSources(str(RLF.TFC))\n",
    "    print('Number of sources in Sample = ' + str(available_sources.shape))\n",
    "    \n",
    "    CreateCutouts(available_sources)\n",
    "    print('CutOuts created.')\n",
    "\n",
    "    print('Starting Ridgeline drawing process.')\n",
    "    start_time = time.time()\n",
    "    TrialSeries(available_sources, str(RLF.CompCat), RLC.R, RLC.dphi, CompTable)\n",
    "    print('Time taken for Ridgelines to draw (Hours) = ' + str((time.time()-start_time)/(60*60)))\n",
    "    resetwarnings()\n",
    "    \n",
    "else:\n",
    "    print('Sample selceted. Sizes and cutouts present. Ridgelines will now draw.')\n",
    "    \n",
    "    available_sources = GetAvailableSources(str(RLF.TFC))\n",
    "    print('Number of sources in Sample = ' + str(available_sources.shape))\n",
    "    \n",
    "    print('Starting Ridgeline drawing process.')\n",
    "    start_time = time.time()\n",
    "    TrialSeries(available_sources, str(RLF.CompCat), RLC.R, RLC.dphi, CompTable)\n",
    "    print('Time taken for Ridgelines to draw (Hours) = ' + str((time.time()-start_time)/(60*60)))\n",
    "    resetwarnings()"
   ]
  }
 ],
 "metadata": {
  "kernelspec": {
   "display_name": "Python 3",
   "language": "python",
   "name": "python3"
  },
  "language_info": {
   "codemirror_mode": {
    "name": "ipython",
    "version": 3
   },
   "file_extension": ".py",
   "mimetype": "text/x-python",
   "name": "python",
   "nbconvert_exporter": "python",
   "pygments_lexer": "ipython3",
   "version": "3.7.3"
  }
 },
 "nbformat": 4,
 "nbformat_minor": 4
}
